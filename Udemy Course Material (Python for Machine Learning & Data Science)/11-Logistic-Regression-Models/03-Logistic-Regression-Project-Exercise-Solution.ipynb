version https://git-lfs.github.com/spec/v1
oid sha256:deffbcbb9193c5cb4e779ce7edc79a91ab8805a63e4b7274a73928eafff63a3d
size 403242
