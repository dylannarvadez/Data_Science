version https://git-lfs.github.com/spec/v1
oid sha256:79be2a7d5507ab29cd75500757637bb482b86c6358b1217ec8f56627db6dc860
size 342425
