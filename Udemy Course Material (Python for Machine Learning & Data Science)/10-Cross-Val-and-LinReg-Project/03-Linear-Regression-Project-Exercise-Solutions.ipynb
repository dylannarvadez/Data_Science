version https://git-lfs.github.com/spec/v1
oid sha256:5d43d87ee92e2c48a31442c184439136be5325519a1518837cb690e55ccec342
size 43674
