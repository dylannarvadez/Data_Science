version https://git-lfs.github.com/spec/v1
oid sha256:8570387120a84ae574074ecd69169db9b6a513011dceba55424bc5690ad7a0c9
size 24258
